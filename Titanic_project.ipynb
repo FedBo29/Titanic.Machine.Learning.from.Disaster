{
 "cells": [
  {
   "cell_type": "markdown",
   "id": "78c0f36f",
   "metadata": {},
   "source": [
    "# Titanic project: survival prediction \n",
    "This is a Kaggle competition linked: https://www.kaggle.com/competitions/titanic. \n",
    "The task is to predict the survival of the passenger on board on the Titanic through the study and analysis of the features available on this dataset. The task is a binary classification task where the label 1 refers to those who will survive, and 0 refers to those who won't survive in the Titanic Disaster.\n",
    "\n",
    "Enjoy seeing my analysis!"
   ]
  },
  {
   "cell_type": "markdown",
   "id": "8033a973",
   "metadata": {},
   "source": [
    "# First step: Data preparation & Feature Extraction "
   ]
  },
  {
   "cell_type": "code",
   "execution_count": 1,
   "id": "6a311c14",
   "metadata": {},
   "outputs": [
    {
     "name": "stdout",
     "output_type": "stream",
     "text": [
      "Populating the interactive namespace from numpy and matplotlib\n"
     ]
    },
    {
     "data": {
      "text/html": [
       "<div>\n",
       "<style scoped>\n",
       "    .dataframe tbody tr th:only-of-type {\n",
       "        vertical-align: middle;\n",
       "    }\n",
       "\n",
       "    .dataframe tbody tr th {\n",
       "        vertical-align: top;\n",
       "    }\n",
       "\n",
       "    .dataframe thead th {\n",
       "        text-align: right;\n",
       "    }\n",
       "</style>\n",
       "<table border=\"1\" class=\"dataframe\">\n",
       "  <thead>\n",
       "    <tr style=\"text-align: right;\">\n",
       "      <th></th>\n",
       "      <th>PassengerId</th>\n",
       "      <th>Survived</th>\n",
       "      <th>Pclass</th>\n",
       "      <th>Name</th>\n",
       "      <th>Sex</th>\n",
       "      <th>Age</th>\n",
       "      <th>SibSp</th>\n",
       "      <th>Parch</th>\n",
       "      <th>Ticket</th>\n",
       "      <th>Fare</th>\n",
       "      <th>Cabin</th>\n",
       "      <th>Embarked</th>\n",
       "    </tr>\n",
       "  </thead>\n",
       "  <tbody>\n",
       "    <tr>\n",
       "      <th>0</th>\n",
       "      <td>1</td>\n",
       "      <td>0</td>\n",
       "      <td>3</td>\n",
       "      <td>Braund, Mr. Owen Harris</td>\n",
       "      <td>male</td>\n",
       "      <td>22.0</td>\n",
       "      <td>1</td>\n",
       "      <td>0</td>\n",
       "      <td>A/5 21171</td>\n",
       "      <td>7.2500</td>\n",
       "      <td>NaN</td>\n",
       "      <td>S</td>\n",
       "    </tr>\n",
       "    <tr>\n",
       "      <th>1</th>\n",
       "      <td>2</td>\n",
       "      <td>1</td>\n",
       "      <td>1</td>\n",
       "      <td>Cumings, Mrs. John Bradley (Florence Briggs Th...</td>\n",
       "      <td>female</td>\n",
       "      <td>38.0</td>\n",
       "      <td>1</td>\n",
       "      <td>0</td>\n",
       "      <td>PC 17599</td>\n",
       "      <td>71.2833</td>\n",
       "      <td>C85</td>\n",
       "      <td>C</td>\n",
       "    </tr>\n",
       "    <tr>\n",
       "      <th>2</th>\n",
       "      <td>3</td>\n",
       "      <td>1</td>\n",
       "      <td>3</td>\n",
       "      <td>Heikkinen, Miss. Laina</td>\n",
       "      <td>female</td>\n",
       "      <td>26.0</td>\n",
       "      <td>0</td>\n",
       "      <td>0</td>\n",
       "      <td>STON/O2. 3101282</td>\n",
       "      <td>7.9250</td>\n",
       "      <td>NaN</td>\n",
       "      <td>S</td>\n",
       "    </tr>\n",
       "    <tr>\n",
       "      <th>3</th>\n",
       "      <td>4</td>\n",
       "      <td>1</td>\n",
       "      <td>1</td>\n",
       "      <td>Futrelle, Mrs. Jacques Heath (Lily May Peel)</td>\n",
       "      <td>female</td>\n",
       "      <td>35.0</td>\n",
       "      <td>1</td>\n",
       "      <td>0</td>\n",
       "      <td>113803</td>\n",
       "      <td>53.1000</td>\n",
       "      <td>C123</td>\n",
       "      <td>S</td>\n",
       "    </tr>\n",
       "    <tr>\n",
       "      <th>4</th>\n",
       "      <td>5</td>\n",
       "      <td>0</td>\n",
       "      <td>3</td>\n",
       "      <td>Allen, Mr. William Henry</td>\n",
       "      <td>male</td>\n",
       "      <td>35.0</td>\n",
       "      <td>0</td>\n",
       "      <td>0</td>\n",
       "      <td>373450</td>\n",
       "      <td>8.0500</td>\n",
       "      <td>NaN</td>\n",
       "      <td>S</td>\n",
       "    </tr>\n",
       "  </tbody>\n",
       "</table>\n",
       "</div>"
      ],
      "text/plain": [
       "   PassengerId  Survived  Pclass  \\\n",
       "0            1         0       3   \n",
       "1            2         1       1   \n",
       "2            3         1       3   \n",
       "3            4         1       1   \n",
       "4            5         0       3   \n",
       "\n",
       "                                                Name     Sex   Age  SibSp  \\\n",
       "0                            Braund, Mr. Owen Harris    male  22.0      1   \n",
       "1  Cumings, Mrs. John Bradley (Florence Briggs Th...  female  38.0      1   \n",
       "2                             Heikkinen, Miss. Laina  female  26.0      0   \n",
       "3       Futrelle, Mrs. Jacques Heath (Lily May Peel)  female  35.0      1   \n",
       "4                           Allen, Mr. William Henry    male  35.0      0   \n",
       "\n",
       "   Parch            Ticket     Fare Cabin Embarked  \n",
       "0      0         A/5 21171   7.2500   NaN        S  \n",
       "1      0          PC 17599  71.2833   C85        C  \n",
       "2      0  STON/O2. 3101282   7.9250   NaN        S  \n",
       "3      0            113803  53.1000  C123        S  \n",
       "4      0            373450   8.0500   NaN        S  "
      ]
     },
     "execution_count": 1,
     "metadata": {},
     "output_type": "execute_result"
    }
   ],
   "source": [
    "#1 survived , 0 non survived \n",
    "%pylab inline\n",
    "import pandas as pd\n",
    "train_dataset=pd.read_csv('titanic/train.csv', encoding='utf8')\n",
    "train_dataset.head()"
   ]
  },
  {
   "cell_type": "code",
   "execution_count": 2,
   "id": "f5f75382",
   "metadata": {},
   "outputs": [
    {
     "data": {
      "image/png": "[encoded data removed]",
      "text/plain": [
       "<Figure size 432x288 with 1 Axes>"
      ]
     },
     "metadata": {
      "needs_background": "light"
     },
     "output_type": "display_data"
    }
   ],
   "source": [
    "y= train_dataset.Survived\n",
    "y.shape\n",
    "plt.title(\"Survived distribution\")\n",
    "plt.hist(y,bins=2, range=[-0.1,1.1])\n",
    "plt.hist?"
   ]
  },
  {
   "cell_type": "markdown",
   "id": "0ba03318",
   "metadata": {},
   "source": [
    "|  | **Variable\tDefinition\tKey** | |\n",
    "| --- | --- | --- |\n",
    "| survival: |\t**Survival** |\t0 = **No**, 1 = **Yes**   |\n",
    "| pclass:| Ticket class  |1 = **first**, 2 = **second**, 3 = **third class** |\n",
    "| sex: |  Sex|(**M/F**) |\n",
    "| Age: |  **Age** | years |\n",
    "|sibsp:   |  | $$Sibsp= \\frac{ \\# \\ of \\ siblings}{ \\# \\ spouses \\ aboard \\ the \\ Titanic}$$ |\n",
    "| parch: |  |$$Parch=\\frac{\\# \\ of \\ parents}{ \\# \\ children \\ aboard \\ the \\ Titanic} $$ \t |\n",
    "|ticket: |\t|**Ticket number**| \t\n",
    "|Passenger fare:| \t|**cost** of the ticket|\n",
    "|cabin:| \t|**Cabin number** |\n",
    "|embarked:| \tPort of Embarkation |\t**C = Cherbourg, Q = Queenstown, S = Southampton**|"
   ]
  },
  {
   "cell_type": "markdown",
   "id": "4bca12f1",
   "metadata": {},
   "source": [
    "Now It's time to convert some features in number e.g. the Sex and the Port. The former will be assigned according to a binary classification: 0 for female sex, 1 for male. For the embark as a feature, I will show the distribution of the population of the three ports used. "
   ]
  },
  {
   "cell_type": "code",
   "execution_count": 3,
   "id": "51a0bc39",
   "metadata": {},
   "outputs": [
    {
     "name": "stdout",
     "output_type": "stream",
     "text": [
      "Number of C:  168\n",
      "Number of Q:  77\n",
      "Number of S:  644\n"
     ]
    },
    {
     "data": {
      "text/plain": [
       "Text(0, 0.5, 'entries')"
      ]
     },
     "execution_count": 3,
     "metadata": {},
     "output_type": "execute_result"
    },
    {
     "data": {
      "image/png": "[encoded data removed]",
      "text/plain": [
       "<Figure size 432x288 with 1 Axes>"
      ]
     },
     "metadata": {
      "needs_background": "light"
     },
     "output_type": "display_data"
    }
   ],
   "source": [
    "train_sex=[]\n",
    "for ii in train_dataset.Sex:\n",
    "    if(ii=='female'):\n",
    "        train_sex.append(0)#0 if FEMALE\n",
    "    else:\n",
    "        train_sex.append(1)# 1 if MALE\n",
    "train_embark=[]\n",
    "countC=0\n",
    "countQ=0\n",
    "countS=0\n",
    "for ii in train_dataset.Embarked:\n",
    "    if(ii =='C'):\n",
    "        train_embark.append(0) #0  if Cherbourg\n",
    "        countC=countC+1\n",
    "    elif(ii =='Q'):\n",
    "        train_embark.append(1) # 1 if Queenstown\n",
    "        countQ=countQ+1\n",
    "    elif(ii =='S'):\n",
    "        train_embark.append(2) # 2 if Southampton\n",
    "        countS=countS+1\n",
    "    else:\n",
    "        train_embark.append(np.nan)  \n",
    "print(\"Number of C: \", countC)\n",
    "print(\"Number of Q: \", countQ)\n",
    "print(\"Number of S: \", countS)\n",
    "embark_class=[countC,countQ,countS]\n",
    "plt.hist(['C','Q','S'],bins=3,weights=[countC,countQ,countS])\n",
    "plt.title(\"Port class distribution\")\n",
    "plt.xlabel(\"port\")\n",
    "plt.ylabel('entries')"
   ]
  },
  {
   "cell_type": "markdown",
   "id": "b5a3bd9b",
   "metadata": {},
   "source": [
    "The most popular port for the Titanic embark is the Southampton port."
   ]
  },
  {
   "cell_type": "code",
   "execution_count": 4,
   "id": "bcc3da6e",
   "metadata": {},
   "outputs": [],
   "source": [
    "train_embark=np.array(train_embark)\n",
    "train_sex=np.array(train_sex)\n",
    "train_Pclass=np.array(train_dataset.Pclass)\n",
    "train_Age=np.array(train_dataset.Age)\n",
    "train_SibSp=np.array(train_dataset.SibSp)\n",
    "train_Parch=np.array(train_dataset.Parch)\n",
    "train_Fare=np.array(train_dataset.Fare)"
   ]
  },
  {
   "cell_type": "code",
   "execution_count": 5,
   "id": "0f2b33e1",
   "metadata": {},
   "outputs": [],
   "source": [
    "train_dataset.Ticket.unique();"
   ]
  },
  {
   "cell_type": "markdown",
   "id": "54aadcba",
   "metadata": {},
   "source": [
    "# Trasforming 'nan' point into a new datapoint: \n",
    "We can notice in Cabin or in other features there are a lot of missing points denoted as **NaN**: this creates problems to the model and we have two possible ways to treat them: \n",
    "\n",
    "-  fix the datapoint with a \"simulated\" data\n",
    "-  do not use the features with missing points\n",
    "\n",
    "I am going to study how to simulate the missing datapoint."
   ]
  },
  {
   "cell_type": "code",
   "execution_count": 6,
   "id": "f90b5647",
   "metadata": {},
   "outputs": [
    {
     "data": {
      "text/plain": [
       "array([nan, 'C85', 'C123', 'E46', 'G6', 'C103', 'D56', 'A6',\n",
       "       'C23 C25 C27', 'B78', 'D33', 'B30', 'C52', 'B28', 'C83', 'F33',\n",
       "       'F G73', 'E31', 'A5', 'D10 D12', 'D26', 'C110', 'B58 B60', 'E101',\n",
       "       'F E69', 'D47', 'B86', 'F2', 'C2', 'E33', 'B19', 'A7', 'C49', 'F4',\n",
       "       'A32', 'B4', 'B80', 'A31', 'D36', 'D15', 'C93', 'C78', 'D35',\n",
       "       'C87', 'B77', 'E67', 'B94', 'C125', 'C99', 'C118', 'D7', 'A19',\n",
       "       'B49', 'D', 'C22 C26', 'C106', 'C65', 'E36', 'C54',\n",
       "       'B57 B59 B63 B66', 'C7', 'E34', 'C32', 'B18', 'C124', 'C91', 'E40',\n",
       "       'T', 'C128', 'D37', 'B35', 'E50', 'C82', 'B96 B98', 'E10', 'E44',\n",
       "       'A34', 'C104', 'C111', 'C92', 'E38', 'D21', 'E12', 'E63', 'A14',\n",
       "       'B37', 'C30', 'D20', 'B79', 'E25', 'D46', 'B73', 'C95', 'B38',\n",
       "       'B39', 'B22', 'C86', 'C70', 'A16', 'C101', 'C68', 'A10', 'E68',\n",
       "       'B41', 'A20', 'D19', 'D50', 'D9', 'A23', 'B50', 'A26', 'D48',\n",
       "       'E58', 'C126', 'B71', 'B51 B53 B55', 'D49', 'B5', 'B20', 'F G63',\n",
       "       'C62 C64', 'E24', 'C90', 'C45', 'E8', 'B101', 'D45', 'C46', 'D30',\n",
       "       'E121', 'D11', 'E77', 'F38', 'B3', 'D6', 'B82 B84', 'D17', 'A36',\n",
       "       'B102', 'B69', 'E49', 'C47', 'D28', 'E17', 'A24', 'C50', 'B42',\n",
       "       'C148'], dtype=object)"
      ]
     },
     "execution_count": 6,
     "metadata": {},
     "output_type": "execute_result"
    }
   ],
   "source": [
    "train_dataset.Cabin.unique()"
   ]
  },
  {
   "cell_type": "markdown",
   "id": "45a691fb",
   "metadata": {},
   "source": [
    "Studying the Cabin as a feature, we discern a letter and a number. I can interpretate the letter as the floor of the boat, hence the vertical axes, and the number as the number of the room and, as a consequence, the position along the horizontal axes.\n",
    "Here, there are other **NaN**, we must treat them!"
   ]
  },
  {
   "cell_type": "code",
   "execution_count": 99,
   "id": "7599bbd8",
   "metadata": {},
   "outputs": [],
   "source": [
    "cabin=train_dataset.Cabin\n",
    "cabin;\n",
    "nan_arr=[]\n",
    "for i in range(cabin.shape[0]):\n",
    "    word=str(cabin[i])\n",
    "    if(word[0]=='A'):\n",
    "        cabin[i]=1\n",
    "    elif(word[0]=='B'):\n",
    "        cabin[i]=2\n",
    "    elif(word[0]=='C'):\n",
    "        cabin[i]=3\n",
    "    elif(word[0]=='D'):\n",
    "        cabin[i]=4\n",
    "    elif(word[0]=='E'):\n",
    "        cabin[i]=5\n",
    "    elif(word[0]=='F'):\n",
    "        cabin[i]=6\n",
    "    elif(word[0]=='G'):\n",
    "        cabin[i]=7\n",
    "    elif(word[0]=='T'):\n",
    "        cabin[i]=8"
   ]
  },
  {
   "cell_type": "code",
   "execution_count": 8,
   "id": "930b8faf",
   "metadata": {},
   "outputs": [
    {
     "data": {
      "text/plain": [
       "8"
      ]
     },
     "execution_count": 8,
     "metadata": {},
     "output_type": "execute_result"
    }
   ],
   "source": [
    "array_random= []\n",
    "for i in cabin:\n",
    "    if not(isnan(i)):\n",
    "        array_random.append(i)\n",
    "max(array_random)"
   ]
  },
  {
   "cell_type": "code",
   "execution_count": 9,
   "id": "ca90d88b",
   "metadata": {},
   "outputs": [],
   "source": [
    "plt.hist;"
   ]
  },
  {
   "cell_type": "code",
   "execution_count": 10,
   "id": "db5f8b04",
   "metadata": {},
   "outputs": [
    {
     "data": {
      "text/plain": [
       "array([15., 47., 59., 33., 32., 13.,  4.,  1.])"
      ]
     },
     "execution_count": 10,
     "metadata": {},
     "output_type": "execute_result"
    },
    {
     "data": {
      "image/png": "[encoded data removed]",
      "text/plain": [
       "<Figure size 432x288 with 1 Axes>"
      ]
     },
     "metadata": {
      "needs_background": "light"
     },
     "output_type": "display_data"
    }
   ],
   "source": [
    "entries=[]\n",
    "entries= plt.hist(array_random, bins=8, range=[0.5,8.5])\n",
    "plt.title('Cabin distribution')\n",
    "plt.grid()\n",
    "plt.xlabel(\"Cabin class\")\n",
    "plt.ylabel(\"entries\")\n",
    "Nentries=entries[0]\n",
    "Nentries"
   ]
  },
  {
   "cell_type": "markdown",
   "id": "b8f3e7e7",
   "metadata": {},
   "source": [
    "We discern that the C class is the most popular of the distribution.\n",
    "\n",
    "Instead to evaluate the mean value of the distribution and fix the missing datapoints with it, I will use the class distribution as a **probability distribution** (normalized) and for each **Nan** point extract a random number that follows that probability distribution. In this way we avoid to popolize only one class ( i.e. using the mean value) and we popolize the entire class distribution with a simulated data that follow the same distribution."
   ]
  },
  {
   "cell_type": "code",
   "execution_count": 11,
   "id": "87d0a7c3",
   "metadata": {},
   "outputs": [],
   "source": [
    "bins=entries[1]\n",
    "Nbins=bins[1:]"
   ]
  },
  {
   "cell_type": "code",
   "execution_count": 12,
   "id": "e845dd7e",
   "metadata": {},
   "outputs": [],
   "source": [
    "tot=sum(Nentries)\n",
    "prob=[]\n",
    "for i in Nentries:\n",
    "    prob.append(i/tot)\n",
    "prob;"
   ]
  },
  {
   "cell_type": "code",
   "execution_count": 13,
   "id": "65a27105",
   "metadata": {},
   "outputs": [],
   "source": [
    "np.random.choice;"
   ]
  },
  {
   "cell_type": "markdown",
   "id": "12ea428e",
   "metadata": {},
   "source": [
    "Coming back on the nan data..."
   ]
  },
  {
   "cell_type": "code",
   "execution_count": 98,
   "id": "1f82b2c5",
   "metadata": {},
   "outputs": [
    {
     "data": {
      "text/plain": [
       "0      5.0\n",
       "1        3\n",
       "2      5.0\n",
       "3        3\n",
       "4      6.0\n",
       "      ... \n",
       "886    4.0\n",
       "887      2\n",
       "888    5.0\n",
       "889      3\n",
       "890    5.0\n",
       "Name: Cabin, Length: 891, dtype: object"
      ]
     },
     "execution_count": 98,
     "metadata": {},
     "output_type": "execute_result"
    }
   ],
   "source": [
    "countNan=0\n",
    "for i in range(cabin.shape[0]):\n",
    "    if(isnan(cabin[i])):\n",
    "        cabin[i]=np.random.choice(Nbins,p=prob)-0.5\n",
    "cabin"
   ]
  },
  {
   "cell_type": "code",
   "execution_count": 15,
   "id": "d6af15be",
   "metadata": {},
   "outputs": [
    {
     "data": {
      "text/plain": [
       "0"
      ]
     },
     "execution_count": 15,
     "metadata": {},
     "output_type": "execute_result"
    }
   ],
   "source": [
    "countNan=0\n",
    "for i in cabin:\n",
    "    if(isnan(i)):\n",
    "        countNan+=1\n",
    "countNan"
   ]
  },
  {
   "cell_type": "markdown",
   "id": "4a712d68",
   "metadata": {},
   "source": [
    "for i in range(cabin.shape[0]):\n",
    "        if (cabin[i]==1):\n",
    "            cabin[i]='A'\n",
    "        elif(cabin[i]==2):\n",
    "            cabin[i]='B'\n",
    "        elif(cabin[i]==3):\n",
    "            cabin[i]='C'\n",
    "        elif(cabin[i]==4):\n",
    "            cabin[i]='D'\n",
    "        elif(cabin[i]==5):\n",
    "            cabin[i]='E'\n",
    "        elif(cabin[i]==6):\n",
    "            cabin[i]='F'\n",
    "        elif(cabin[i]==7):\n",
    "            cabin[i]='G'\n",
    "        elif(cabin[i]==8):\n",
    "            cabin[i]='T'"
   ]
  },
  {
   "cell_type": "code",
   "execution_count": 16,
   "id": "572bdcca",
   "metadata": {},
   "outputs": [
    {
     "data": {
      "text/plain": [
       "0      5.0\n",
       "1        3\n",
       "2      5.0\n",
       "3        3\n",
       "4      6.0\n",
       "      ... \n",
       "886    4.0\n",
       "887      2\n",
       "888    5.0\n",
       "889      3\n",
       "890    5.0\n",
       "Name: Cabin, Length: 891, dtype: object"
      ]
     },
     "execution_count": 16,
     "metadata": {},
     "output_type": "execute_result"
    }
   ],
   "source": [
    "cabin"
   ]
  },
  {
   "cell_type": "code",
   "execution_count": 17,
   "id": "c7f7c38e",
   "metadata": {},
   "outputs": [],
   "source": [
    "#from pandas import get_dummies"
   ]
  },
  {
   "cell_type": "code",
   "execution_count": 18,
   "id": "f8abe457",
   "metadata": {},
   "outputs": [],
   "source": [
    "#train_cabin=pd.get_dummies(cabin)"
   ]
  },
  {
   "cell_type": "code",
   "execution_count": 19,
   "id": "df4276e7",
   "metadata": {},
   "outputs": [],
   "source": [
    "#shape(train_cabin)"
   ]
  },
  {
   "cell_type": "code",
   "execution_count": 20,
   "id": "b029a3be",
   "metadata": {},
   "outputs": [],
   "source": [
    "#train_cabin=np.array(train_cabin)"
   ]
  },
  {
   "cell_type": "code",
   "execution_count": 21,
   "id": "d76216b4",
   "metadata": {},
   "outputs": [],
   "source": [
    "#shape(train_cabin)"
   ]
  },
  {
   "cell_type": "code",
   "execution_count": null,
   "id": "1216bbbd",
   "metadata": {},
   "outputs": [],
   "source": []
  },
  {
   "cell_type": "code",
   "execution_count": null,
   "id": "20a5447b",
   "metadata": {},
   "outputs": [],
   "source": []
  },
  {
   "cell_type": "raw",
   "id": "515c2d15",
   "metadata": {},
   "source": []
  },
  {
   "cell_type": "markdown",
   "id": "0a41c1ea",
   "metadata": {},
   "source": [
    "Using this strategy we avoid to have any missing points."
   ]
  },
  {
   "cell_type": "code",
   "execution_count": 22,
   "id": "373d68fd",
   "metadata": {},
   "outputs": [],
   "source": [
    "train_cabin=np.array(cabin)"
   ]
  },
  {
   "cell_type": "markdown",
   "id": "f3f6f8dc",
   "metadata": {},
   "source": [
    "Age,Embarked,Cabin has at least one NaN: we must study how to treat that datapoint, by now we can count how many nan we have."
   ]
  },
  {
   "cell_type": "code",
   "execution_count": 23,
   "id": "034b8ed6",
   "metadata": {},
   "outputs": [
    {
     "name": "stdout",
     "output_type": "stream",
     "text": [
      "2\n",
      "0\n",
      "0\n",
      "0\n",
      "177\n",
      "0\n",
      "0\n",
      "0\n"
     ]
    }
   ],
   "source": [
    "lista=[train_embark,train_sex,train_cabin, train_Pclass, train_Age, train_SibSp, train_Parch, train_Fare]\n",
    "count=0\n",
    "for i in lista:\n",
    "    for j in i:\n",
    "        if( isnan(j)):\n",
    "            count= count+1\n",
    "    print( count)\n",
    "    count=0"
   ]
  },
  {
   "cell_type": "markdown",
   "id": "eff8ddba",
   "metadata": {},
   "source": [
    "**Embark** has two Nan, we can replace those with the most popular port: Southampton."
   ]
  },
  {
   "cell_type": "markdown",
   "id": "5bcf0e51",
   "metadata": {},
   "source": [
    "In this way, I changed the nan with the most popular port used in the dataset"
   ]
  },
  {
   "cell_type": "code",
   "execution_count": 24,
   "id": "dcbecb59",
   "metadata": {},
   "outputs": [
    {
     "data": {
      "text/plain": [
       "(891,)"
      ]
     },
     "execution_count": 24,
     "metadata": {},
     "output_type": "execute_result"
    }
   ],
   "source": [
    "train_embark;\n",
    "for i in range(train_embark.shape[0]):\n",
    "    if (isnan(train_embark[i])):\n",
    "        train_embark[i]=2\n",
    "train_embark.shape"
   ]
  },
  {
   "cell_type": "code",
   "execution_count": 25,
   "id": "21a14400",
   "metadata": {},
   "outputs": [
    {
     "data": {
      "text/plain": [
       "0"
      ]
     },
     "execution_count": 25,
     "metadata": {},
     "output_type": "execute_result"
    }
   ],
   "source": [
    "countNan=0\n",
    "for i in train_embark:\n",
    "    if(isnan(i)):\n",
    "        countNan+=1\n",
    "countNan"
   ]
  },
  {
   "cell_type": "markdown",
   "id": "a6a74f53",
   "metadata": {},
   "source": [
    "Now we must treat the Age! Same strategy."
   ]
  },
  {
   "cell_type": "code",
   "execution_count": 26,
   "id": "8ec587fb",
   "metadata": {},
   "outputs": [
    {
     "data": {
      "text/plain": [
       "(array([30., 17., 15.,  9., 29., 64., 67., 70., 83., 62., 51., 40., 35.,\n",
       "        27., 35., 23., 15.,  9., 11., 11.,  4.,  2.,  3.,  1.,  1.]),\n",
       " array([ 0.42  ,  3.6032,  6.7864,  9.9696, 13.1528, 16.336 , 19.5192,\n",
       "        22.7024, 25.8856, 29.0688, 32.252 , 35.4352, 38.6184, 41.8016,\n",
       "        44.9848, 48.168 , 51.3512, 54.5344, 57.7176, 60.9008, 64.084 ,\n",
       "        67.2672, 70.4504, 73.6336, 76.8168, 80.    ]),\n",
       " <BarContainer object of 25 artists>)"
      ]
     },
     "execution_count": 26,
     "metadata": {},
     "output_type": "execute_result"
    },
    {
     "data": {
      "image/png": "[encoded data removed]",
      "text/plain": [
       "<Figure size 432x288 with 1 Axes>"
      ]
     },
     "metadata": {
      "needs_background": "light"
     },
     "output_type": "display_data"
    }
   ],
   "source": [
    "train_Age\n",
    "train_Agesplit=[]\n",
    "for i in train_Age:\n",
    "    if(isfinite(i)):\n",
    "        train_Agesplit.append(i)\n",
    "train_Agesplit;\n",
    "myhisto=plt.hist(train_Agesplit, bins=25)\n",
    "plt.title(\"Age distribution of the training sample\")\n",
    "plt.xlabel(\"Age in years\")\n",
    "plt.ylabel(\"entries\")\n",
    "\n",
    "NentriesAge=myhisto[0]\n",
    "binsAge=myhisto[1]\n",
    "myhisto"
   ]
  },
  {
   "cell_type": "code",
   "execution_count": 27,
   "id": "1f4a6051",
   "metadata": {},
   "outputs": [],
   "source": [
    "probAge=[]\n",
    "totAge=sum(NentriesAge)\n",
    "for i in NentriesAge:\n",
    "    probAge.append(i/totAge)\n",
    "size(probAge);"
   ]
  },
  {
   "cell_type": "code",
   "execution_count": 28,
   "id": "aa13a385",
   "metadata": {},
   "outputs": [
    {
     "data": {
      "text/plain": [
       "array([ 3.6032,  6.7864,  9.9696, 13.1528, 16.336 , 19.5192, 22.7024,\n",
       "       25.8856, 29.0688, 32.252 , 35.4352, 38.6184, 41.8016, 44.9848,\n",
       "       48.168 , 51.3512, 54.5344, 57.7176, 60.9008, 64.084 , 67.2672,\n",
       "       70.4504, 73.6336, 76.8168, 80.    ])"
      ]
     },
     "execution_count": 28,
     "metadata": {},
     "output_type": "execute_result"
    }
   ],
   "source": [
    "binsAget=binsAge[1:]\n",
    "binsAget"
   ]
  },
  {
   "cell_type": "code",
   "execution_count": 29,
   "id": "23a11a21",
   "metadata": {},
   "outputs": [],
   "source": [
    "np.random.choice(binsAget,p=probAge, size=15);"
   ]
  },
  {
   "cell_type": "code",
   "execution_count": 30,
   "id": "a5605d72",
   "metadata": {},
   "outputs": [],
   "source": [
    "train_Age2=np.array(train_dataset.Age)\n",
    "for i in range(train_Age2.shape[0]):\n",
    "    if(isnan(train_Age2[i])):\n",
    "        train_Age2[i]=np.random.choice(binsAget,p=probAge)\n",
    "train_Age2;"
   ]
  },
  {
   "cell_type": "code",
   "execution_count": 31,
   "id": "d3091cce",
   "metadata": {},
   "outputs": [
    {
     "name": "stdout",
     "output_type": "stream",
     "text": [
      "0\n",
      "0\n",
      "0\n",
      "0\n",
      "0\n",
      "0\n",
      "0\n",
      "0\n"
     ]
    }
   ],
   "source": [
    "lista=[train_Pclass,train_sex,train_Age2,train_SibSp,train_Parch,train_Fare,train_cabin,train_embark]\n",
    "count=0\n",
    "for i in lista:\n",
    "    for j in i:\n",
    "        if( isnan(j)):\n",
    "            count= count+1\n",
    "    print( count)\n",
    "    count=0"
   ]
  },
  {
   "cell_type": "markdown",
   "id": "5e8760b3",
   "metadata": {},
   "source": [
    "I exchange nan in train_Age with the **mean** of the population"
   ]
  },
  {
   "cell_type": "code",
   "execution_count": 32,
   "id": "9e57370c",
   "metadata": {},
   "outputs": [],
   "source": [
    "X_dataset=np.vstack((train_Pclass,train_sex,train_Age2,train_SibSp,train_Parch,train_Fare,train_cabin,train_embark))#,train_cabin,train_embark))\n",
    "X_dataset=X_dataset.T;\n",
    "#np.concatenate((X_dataset,train_cabin), axis=1)\n",
    "#X_dataset=X_dataset.T;\n"
   ]
  },
  {
   "cell_type": "code",
   "execution_count": 33,
   "id": "166369b6",
   "metadata": {},
   "outputs": [],
   "source": [
    "#one_hot_encoded_data = pd.get_dummies(train_dataset, columns = ['Embarked','Cabin'])\n",
    "#print(one_hot_encoded_data);"
   ]
  },
  {
   "cell_type": "code",
   "execution_count": 34,
   "id": "baf01a30",
   "metadata": {},
   "outputs": [
    {
     "data": {
      "text/plain": [
       "891"
      ]
     },
     "execution_count": 34,
     "metadata": {},
     "output_type": "execute_result"
    }
   ],
   "source": [
    "len(X_dataset[:,0])"
   ]
  },
  {
   "cell_type": "markdown",
   "id": "ea5a2878",
   "metadata": {},
   "source": [
    "Now the data preparation is finished as a process, the MVA analysis can start and we can use different models in order to see which one is the best."
   ]
  },
  {
   "cell_type": "code",
   "execution_count": 35,
   "id": "2ede5a0f",
   "metadata": {},
   "outputs": [],
   "source": [
    "from sklearn.model_selection import train_test_split,cross_val_score\n",
    "X_train_dataset, X_test_dataset, y_train, y_test = train_test_split(X_dataset, y, train_size=2/3, test_size= 1/3, random_state=11)"
   ]
  },
  {
   "cell_type": "code",
   "execution_count": 36,
   "id": "f3873993",
   "metadata": {},
   "outputs": [],
   "source": [
    "from sklearn.ensemble import RandomForestClassifier\n",
    "from sklearn.linear_model import LogisticRegression\n",
    "from sklearn.naive_bayes import GaussianNB, MultinomialNB\n",
    "from sklearn.neural_network import MLPClassifier\n",
    "from sklearn.neighbors import KNeighborsClassifier"
   ]
  },
  {
   "cell_type": "code",
   "execution_count": 37,
   "id": "17198730",
   "metadata": {},
   "outputs": [],
   "source": [
    "import seaborn as sns"
   ]
  },
  {
   "cell_type": "code",
   "execution_count": 38,
   "id": "62742460",
   "metadata": {},
   "outputs": [],
   "source": [
    "train_dataset.dtypes;"
   ]
  },
  {
   "cell_type": "markdown",
   "id": "376514a9",
   "metadata": {},
   "source": [
    "# Logistic Regression"
   ]
  },
  {
   "cell_type": "code",
   "execution_count": 39,
   "id": "4767b2d6",
   "metadata": {},
   "outputs": [],
   "source": [
    "#LogisticRegression?"
   ]
  },
  {
   "cell_type": "code",
   "execution_count": 40,
   "id": "93d3d6ff",
   "metadata": {},
   "outputs": [
    {
     "data": {
      "text/plain": [
       "0.7675687224042158"
      ]
     },
     "execution_count": 40,
     "metadata": {},
     "output_type": "execute_result"
    }
   ],
   "source": [
    "mode=LogisticRegression(penalty='l2',solver='lbfgs', class_weight='balanced', random_state=21, max_iter=1000)\n",
    "mode.fit(X_train_dataset, y_train)\n",
    "mode.score(X_train_dataset, y_train)\n",
    "scoresLR=cross_val_score(mode, X_train_dataset, y_train, cv=5)\n",
    "np.mean(scoresLR)"
   ]
  },
  {
   "cell_type": "markdown",
   "id": "eeba9a05",
   "metadata": {},
   "source": [
    "# Random Forest Classifier"
   ]
  },
  {
   "cell_type": "code",
   "execution_count": 41,
   "id": "a4225dce",
   "metadata": {},
   "outputs": [],
   "source": [
    "#RandomForestClassifier?"
   ]
  },
  {
   "cell_type": "code",
   "execution_count": 42,
   "id": "c5a215ed",
   "metadata": {},
   "outputs": [],
   "source": [
    "nr_trees= np.arange(25,400, 25)\n",
    "nr_trees;"
   ]
  },
  {
   "cell_type": "code",
   "execution_count": 43,
   "id": "9c6b728d",
   "metadata": {},
   "outputs": [],
   "source": [
    "insampleE=[]\n",
    "outofsampleE=[]\n",
    "for tree in nr_trees:\n",
    "    model=RandomForestClassifier(n_estimators=tree)\n",
    "    model.fit(X_train_dataset, y_train)\n",
    "    score=model.score(X_train_dataset, y_train) #in-sample-error\n",
    "    insampleE.append(score)\n",
    "    outscore=cross_val_score(model, X_train_dataset, y_train, cv=5)\n",
    "    outofsampleE.append(np.mean(outscore))"
   ]
  },
  {
   "cell_type": "code",
   "execution_count": 44,
   "id": "6010967d",
   "metadata": {},
   "outputs": [
    {
     "name": "stdout",
     "output_type": "stream",
     "text": [
      "highest score:  0.8096709870388834\n",
      "nr of trees:  200\n"
     ]
    },
    {
     "data": {
      "image/png": "[encoded data removed]",
      "text/plain": [
       "<Figure size 432x288 with 1 Axes>"
      ]
     },
     "metadata": {
      "needs_background": "light"
     },
     "output_type": "display_data"
    }
   ],
   "source": [
    "plt.plot(nr_trees,insampleE, label='in-sample-Error')\n",
    "plt.plot(nr_trees, outofsampleE, label='out-of-sample-Error')\n",
    "plt.title('Learing Curves: Random Forest')\n",
    "plt.axvline(x = nr_trees[np.argmax(outofsampleE)],color = 'red', linestyle = '--', alpha = 0.5)\n",
    "plt.grid()\n",
    "plt.legend()\n",
    "plt.xlabel(\"Number of trees\")\n",
    "plt.ylabel(\"score\")\n",
    "print('highest score: ', max(outofsampleE))\n",
    "print('nr of trees: ',  nr_trees[np.argmax(outofsampleE)])\n",
    "#old score 0.819"
   ]
  },
  {
   "cell_type": "code",
   "execution_count": 45,
   "id": "2baf7b39",
   "metadata": {},
   "outputs": [
    {
     "data": {
      "text/plain": [
       "RandomForestClassifier(n_estimators=200)"
      ]
     },
     "execution_count": 45,
     "metadata": {},
     "output_type": "execute_result"
    }
   ],
   "source": [
    "model2=RandomForestClassifier(n_estimators=nr_trees[argmax(outofsampleE)])\n",
    "model2.fit(X_train_dataset,y_train)"
   ]
  },
  {
   "cell_type": "markdown",
   "id": "8679c6c7",
   "metadata": {},
   "source": [
    "# KNN model"
   ]
  },
  {
   "cell_type": "code",
   "execution_count": 46,
   "id": "ca37e8a0",
   "metadata": {},
   "outputs": [],
   "source": [
    "#KNeighborsClassifier?"
   ]
  },
  {
   "cell_type": "code",
   "execution_count": 47,
   "id": "e604be83",
   "metadata": {},
   "outputs": [],
   "source": [
    "nr_k=np.arange(3,25,1)\n",
    "k_score=[]\n",
    "k_validation=[]\n",
    "for i in nr_k:\n",
    "    model= KNeighborsClassifier(i)\n",
    "    model.fit(X_train_dataset, y_train)\n",
    "    score=model.score(X_train_dataset, y_train)\n",
    "    k_score.append(score)\n",
    "    scores=cross_val_score(model,X_train_dataset, y_train, cv=10)\n",
    "    k_validation.append(np.mean(scores))"
   ]
  },
  {
   "cell_type": "code",
   "execution_count": 48,
   "id": "696ba7f2",
   "metadata": {},
   "outputs": [
    {
     "name": "stdout",
     "output_type": "stream",
     "text": [
      "score:  0.691723163841808\n"
     ]
    },
    {
     "data": {
      "image/png": "[encoded data removed]",
      "text/plain": [
       "<Figure size 432x288 with 1 Axes>"
      ]
     },
     "metadata": {
      "needs_background": "light"
     },
     "output_type": "display_data"
    }
   ],
   "source": [
    "plt.plot(nr_k, k_score,label='in-sample-Error')\n",
    "plt.plot(nr_k, k_validation, label='out-of-sample-Error')\n",
    "plt.xlabel('Number of K points')\n",
    "plt.ylabel('score')\n",
    "plt.grid()\n",
    "plt.legend()\n",
    "plt.title(\"Learning curves: Knn classifier\")\n",
    "plt.axvline(x=nr_k[np.argmax(k_validation)], color='red',linestyle = '--', alpha = 0.5 )\n",
    "print('score: ', max(k_validation))\n",
    "#old score 0.703"
   ]
  },
  {
   "cell_type": "code",
   "execution_count": 49,
   "id": "4a6f04e7",
   "metadata": {},
   "outputs": [
    {
     "data": {
      "text/plain": [
       "KNeighborsClassifier(n_neighbors=17)"
      ]
     },
     "execution_count": 49,
     "metadata": {},
     "output_type": "execute_result"
    }
   ],
   "source": [
    "model3=KNeighborsClassifier(nr_k[np.argmax(k_validation)])\n",
    "model3.fit(X_train_dataset,y_train)"
   ]
  },
  {
   "cell_type": "markdown",
   "id": "f26764b5",
   "metadata": {},
   "source": [
    "# Naive Bayes models"
   ]
  },
  {
   "cell_type": "code",
   "execution_count": 50,
   "id": "46e08519",
   "metadata": {},
   "outputs": [],
   "source": [
    "#plt.legend?"
   ]
  },
  {
   "cell_type": "code",
   "execution_count": 51,
   "id": "511eac8e",
   "metadata": {},
   "outputs": [
    {
     "data": {
      "text/plain": [
       "Text(0.5, 1.0, 'survival class distribution')"
      ]
     },
     "execution_count": 51,
     "metadata": {},
     "output_type": "execute_result"
    },
    {
     "data": {
      "image/png": "[encoded data removed]",
      "text/plain": [
       "<Figure size 432x288 with 1 Axes>"
      ]
     },
     "metadata": {
      "needs_background": "light"
     },
     "output_type": "display_data"
    }
   ],
   "source": [
    "plt.hist(y_train,bins=2)\n",
    "plt.xlabel(\"class\")\n",
    "plt.ylabel('entries')\n",
    "plt.title(\"survival class distribution\")"
   ]
  },
  {
   "cell_type": "code",
   "execution_count": 52,
   "id": "81f5b383",
   "metadata": {},
   "outputs": [
    {
     "name": "stdout",
     "output_type": "stream",
     "text": [
      "0.398989898989899\n"
     ]
    }
   ],
   "source": [
    "countS=0\n",
    "countNS=0\n",
    "for i in y_train:\n",
    "    if i==1:\n",
    "        countS+=1\n",
    "    else:\n",
    "        countNS+=1\n",
    "S_prob=countS/(countS+countNS)\n",
    "print(S_prob)"
   ]
  },
  {
   "cell_type": "code",
   "execution_count": 53,
   "id": "f7598dc3",
   "metadata": {},
   "outputs": [
    {
     "name": "stdout",
     "output_type": "stream",
     "text": [
      "in-sample:  0.7760942760942761\n",
      "out-sample:  0.7727401129943503\n"
     ]
    }
   ],
   "source": [
    "model4=GaussianNB()\n",
    "model4.fit(X_train_dataset, y_train)\n",
    "scoreIN=model4.score(X_train_dataset, y_train)\n",
    "score=np.mean(cross_val_score(model4, X_train_dataset,y_train, cv=10))\n",
    "print(\"in-sample: \", scoreIN)\n",
    "print(\"out-sample: \", score)"
   ]
  },
  {
   "cell_type": "code",
   "execution_count": 54,
   "id": "e588f2e4",
   "metadata": {},
   "outputs": [
    {
     "name": "stdout",
     "output_type": "stream",
     "text": [
      "in-sample:  0.6717171717171717\n",
      "out-sample:  0.6734463276836158\n"
     ]
    }
   ],
   "source": [
    "model5=MultinomialNB()\n",
    "model5.fit(X_train_dataset, y_train)\n",
    "scoreIN=model5.score(X_train_dataset, y_train)\n",
    "score=np.mean(cross_val_score(model5, X_train_dataset,y_train, cv=10))\n",
    "print(\"in-sample: \", scoreIN)\n",
    "print(\"out-sample: \", score)"
   ]
  },
  {
   "cell_type": "markdown",
   "id": "ff0e2675",
   "metadata": {},
   "source": [
    "# Multi-layer Perceptron Classifier"
   ]
  },
  {
   "cell_type": "code",
   "execution_count": 55,
   "id": "cb72d1de",
   "metadata": {},
   "outputs": [],
   "source": [
    "#MLPClassifier?"
   ]
  },
  {
   "cell_type": "code",
   "execution_count": 56,
   "id": "2d80c95e",
   "metadata": {},
   "outputs": [],
   "source": [
    "#plt.subplots?"
   ]
  },
  {
   "cell_type": "code",
   "execution_count": 57,
   "id": "38cacb77",
   "metadata": {},
   "outputs": [],
   "source": [
    "activations=['identity','logistic','tanh','relu']\n",
    "solvers=['lbfgs','sgd','adam']\n",
    "alphas=np.arange(0.01,0.5,0.05)"
   ]
  },
  {
   "cell_type": "code",
   "execution_count": 58,
   "id": "29af249e",
   "metadata": {},
   "outputs": [],
   "source": [
    "#model=MLPClassifier((4,4,2), activation=, solver=, alpha=,learning_rate=, learning_rate_init=, max_iter=1000)"
   ]
  },
  {
   "cell_type": "code",
   "execution_count": 59,
   "id": "912242cc",
   "metadata": {},
   "outputs": [
    {
     "data": {
      "image/png": "[encoded data removed]",
      "text/plain": [
       "<Figure size 1080x1080 with 4 Axes>"
      ]
     },
     "metadata": {
      "needs_background": "light"
     },
     "output_type": "display_data"
    }
   ],
   "source": [
    "figure(figsize=(15,15))\n",
    "\n",
    "i=0\n",
    "functions=('identity', 'logistic', 'tanh', 'relu')\n",
    "names=('lbfgs', 'sgd', 'adam')\n",
    "score=[]\n",
    "\n",
    "for function in functions:\n",
    "    scores=[]\n",
    "    i=i+1\n",
    "    for name in names: \n",
    "        plt.subplot(3,3,i)\n",
    "        clf= MLPClassifier( (4, 3, 2), max_iter=5000, activation= function, solver= name, learning_rate_init=0.01, learning_rate= 'invscaling')\n",
    "        clf.fit(X_train_dataset, y_train)\n",
    "        scores.append( clf.score(X_train_dataset, y_train) )\n",
    "    plt.plot( names, scores, label= function)\n",
    "    plt.title( function )\n",
    "    plt.legend(loc='best')"
   ]
  },
  {
   "cell_type": "code",
   "execution_count": 60,
   "id": "8b653f63",
   "metadata": {},
   "outputs": [],
   "source": [
    "model=MLPClassifier((4,3,2),max_iter=10000, activation= 'logistic', solver= 'adam', learning_rate_init=0.01, learning_rate= 'invscaling' )\n",
    "model.fit(X_train_dataset, y_train)\n",
    "score=model.score(X_train_dataset,y_train)\n",
    "scores=cross_val_score(model, X_train_dataset, y_train, cv=5)"
   ]
  },
  {
   "cell_type": "code",
   "execution_count": 61,
   "id": "84d78b98",
   "metadata": {},
   "outputs": [
    {
     "name": "stdout",
     "output_type": "stream",
     "text": [
      "training score:  0.835016835016835\n",
      "validation score:  0.7811138014527845\n"
     ]
    }
   ],
   "source": [
    "print(\"training score: \",score )\n",
    "print(\"validation score: \",np.mean(scores))\n",
    "#old score 0.73"
   ]
  },
  {
   "cell_type": "code",
   "execution_count": 62,
   "id": "c02c210b",
   "metadata": {},
   "outputs": [
    {
     "data": {
      "text/plain": [
       "<sklearn.metrics._plot.roc_curve.RocCurveDisplay at 0x155bbff3cd0>"
      ]
     },
     "execution_count": 62,
     "metadata": {},
     "output_type": "execute_result"
    },
    {
     "data": {
      "image/png": "[encoded data removed]",
      "text/plain": [
       "<Figure size 432x288 with 1 Axes>"
      ]
     },
     "metadata": {
      "needs_background": "light"
     },
     "output_type": "display_data"
    }
   ],
   "source": [
    "from sklearn import metrics\n",
    "ax_roc=plt.subplot(1,1,1)\n",
    "ax_roc.grid()\n",
    "ax_roc.set_title(\"Receiver Operating Characteristic (ROC) curves\")\n",
    "metrics.plot_roc_curve(mode,  X_test_dataset, y_test,  sample_weight=None, drop_intermediate=True, response_method='predict_proba', name=None, ax=ax_roc, pos_label=None )\n",
    "metrics.plot_roc_curve(model,  X_test_dataset, y_test,  sample_weight=None, drop_intermediate=True, response_method='predict_proba', name=None, ax=ax_roc, pos_label=None )\n",
    "metrics.plot_roc_curve(model2, X_test_dataset, y_test,  sample_weight=None, drop_intermediate=True, response_method='predict_proba', name=None, ax=ax_roc, pos_label=None )\n",
    "metrics.plot_roc_curve(model3, X_test_dataset, y_test,  sample_weight=None, drop_intermediate=True, response_method='predict_proba', name=None, ax=ax_roc, pos_label=None )\n",
    "metrics.plot_roc_curve(model4, X_test_dataset, y_test,  sample_weight=None, drop_intermediate=True,response_method='predict_proba', name=None, ax=ax_roc, pos_label=None )\n",
    "metrics.plot_roc_curve(model4, X_test_dataset, y_test,  sample_weight=None, drop_intermediate=True,response_method='predict_proba', name=None, ax=ax_roc, pos_label=None )"
   ]
  },
  {
   "cell_type": "markdown",
   "id": "5f8370a4",
   "metadata": {},
   "source": [
    "# Final Model: Random Forest"
   ]
  },
  {
   "cell_type": "code",
   "execution_count": 63,
   "id": "e7c8fffe",
   "metadata": {},
   "outputs": [
    {
     "data": {
      "text/plain": [
       "RandomForestClassifier(n_estimators=200)"
      ]
     },
     "execution_count": 63,
     "metadata": {},
     "output_type": "execute_result"
    }
   ],
   "source": [
    "model2=RandomForestClassifier(n_estimators=nr_trees[argmax(outofsampleE)])\n",
    "model2.fit(X_dataset,y)"
   ]
  },
  {
   "cell_type": "markdown",
   "id": "f37aec7b",
   "metadata": {},
   "source": [
    "# Testing the model: application on the test dataset\n",
    "\n",
    "Since the test dataset has many Nan, first we will fix those datapoints with the same strategy used before."
   ]
  },
  {
   "cell_type": "code",
   "execution_count": 64,
   "id": "e5314fab",
   "metadata": {},
   "outputs": [
    {
     "data": {
      "text/html": [
       "<div>\n",
       "<style scoped>\n",
       "    .dataframe tbody tr th:only-of-type {\n",
       "        vertical-align: middle;\n",
       "    }\n",
       "\n",
       "    .dataframe tbody tr th {\n",
       "        vertical-align: top;\n",
       "    }\n",
       "\n",
       "    .dataframe thead th {\n",
       "        text-align: right;\n",
       "    }\n",
       "</style>\n",
       "<table border=\"1\" class=\"dataframe\">\n",
       "  <thead>\n",
       "    <tr style=\"text-align: right;\">\n",
       "      <th></th>\n",
       "      <th>PassengerId</th>\n",
       "      <th>Pclass</th>\n",
       "      <th>Name</th>\n",
       "      <th>Sex</th>\n",
       "      <th>Age</th>\n",
       "      <th>SibSp</th>\n",
       "      <th>Parch</th>\n",
       "      <th>Ticket</th>\n",
       "      <th>Fare</th>\n",
       "      <th>Cabin</th>\n",
       "      <th>Embarked</th>\n",
       "    </tr>\n",
       "  </thead>\n",
       "  <tbody>\n",
       "    <tr>\n",
       "      <th>0</th>\n",
       "      <td>892</td>\n",
       "      <td>3</td>\n",
       "      <td>Kelly, Mr. James</td>\n",
       "      <td>male</td>\n",
       "      <td>34.5</td>\n",
       "      <td>0</td>\n",
       "      <td>0</td>\n",
       "      <td>330911</td>\n",
       "      <td>7.8292</td>\n",
       "      <td>NaN</td>\n",
       "      <td>Q</td>\n",
       "    </tr>\n",
       "    <tr>\n",
       "      <th>1</th>\n",
       "      <td>893</td>\n",
       "      <td>3</td>\n",
       "      <td>Wilkes, Mrs. James (Ellen Needs)</td>\n",
       "      <td>female</td>\n",
       "      <td>47.0</td>\n",
       "      <td>1</td>\n",
       "      <td>0</td>\n",
       "      <td>363272</td>\n",
       "      <td>7.0000</td>\n",
       "      <td>NaN</td>\n",
       "      <td>S</td>\n",
       "    </tr>\n",
       "    <tr>\n",
       "      <th>2</th>\n",
       "      <td>894</td>\n",
       "      <td>2</td>\n",
       "      <td>Myles, Mr. Thomas Francis</td>\n",
       "      <td>male</td>\n",
       "      <td>62.0</td>\n",
       "      <td>0</td>\n",
       "      <td>0</td>\n",
       "      <td>240276</td>\n",
       "      <td>9.6875</td>\n",
       "      <td>NaN</td>\n",
       "      <td>Q</td>\n",
       "    </tr>\n",
       "    <tr>\n",
       "      <th>3</th>\n",
       "      <td>895</td>\n",
       "      <td>3</td>\n",
       "      <td>Wirz, Mr. Albert</td>\n",
       "      <td>male</td>\n",
       "      <td>27.0</td>\n",
       "      <td>0</td>\n",
       "      <td>0</td>\n",
       "      <td>315154</td>\n",
       "      <td>8.6625</td>\n",
       "      <td>NaN</td>\n",
       "      <td>S</td>\n",
       "    </tr>\n",
       "    <tr>\n",
       "      <th>4</th>\n",
       "      <td>896</td>\n",
       "      <td>3</td>\n",
       "      <td>Hirvonen, Mrs. Alexander (Helga E Lindqvist)</td>\n",
       "      <td>female</td>\n",
       "      <td>22.0</td>\n",
       "      <td>1</td>\n",
       "      <td>1</td>\n",
       "      <td>3101298</td>\n",
       "      <td>12.2875</td>\n",
       "      <td>NaN</td>\n",
       "      <td>S</td>\n",
       "    </tr>\n",
       "  </tbody>\n",
       "</table>\n",
       "</div>"
      ],
      "text/plain": [
       "   PassengerId  Pclass                                          Name     Sex  \\\n",
       "0          892       3                              Kelly, Mr. James    male   \n",
       "1          893       3              Wilkes, Mrs. James (Ellen Needs)  female   \n",
       "2          894       2                     Myles, Mr. Thomas Francis    male   \n",
       "3          895       3                              Wirz, Mr. Albert    male   \n",
       "4          896       3  Hirvonen, Mrs. Alexander (Helga E Lindqvist)  female   \n",
       "\n",
       "    Age  SibSp  Parch   Ticket     Fare Cabin Embarked  \n",
       "0  34.5      0      0   330911   7.8292   NaN        Q  \n",
       "1  47.0      1      0   363272   7.0000   NaN        S  \n",
       "2  62.0      0      0   240276   9.6875   NaN        Q  \n",
       "3  27.0      0      0   315154   8.6625   NaN        S  \n",
       "4  22.0      1      1  3101298  12.2875   NaN        S  "
      ]
     },
     "execution_count": 64,
     "metadata": {},
     "output_type": "execute_result"
    }
   ],
   "source": [
    "test_dataset=pd.read_csv('titanic/test.csv', encoding='utf8')\n",
    "test_dataset.head()"
   ]
  },
  {
   "cell_type": "code",
   "execution_count": 65,
   "id": "e6c30269",
   "metadata": {},
   "outputs": [
    {
     "data": {
      "text/plain": [
       "array([nan, 'B45', 'E31', 'B57 B59 B63 B66', 'B36', 'A21', 'C78', 'D34',\n",
       "       'D19', 'A9', 'D15', 'C31', 'C23 C25 C27', 'F G63', 'B61', 'C53',\n",
       "       'D43', 'C130', 'C132', 'C101', 'C55 C57', 'B71', 'C46', 'C116',\n",
       "       'F', 'A29', 'G6', 'C6', 'C28', 'C51', 'E46', 'C54', 'C97', 'D22',\n",
       "       'B10', 'F4', 'E45', 'E52', 'D30', 'B58 B60', 'E34', 'C62 C64',\n",
       "       'A11', 'B11', 'C80', 'F33', 'C85', 'D37', 'C86', 'D21', 'C89',\n",
       "       'F E46', 'A34', 'D', 'B26', 'C22 C26', 'B69', 'C32', 'B78',\n",
       "       'F E57', 'F2', 'A18', 'C106', 'B51 B53 B55', 'D10 D12', 'E60',\n",
       "       'E50', 'E39 E41', 'B52 B54 B56', 'C39', 'B24', 'D28', 'B41', 'C7',\n",
       "       'D40', 'D38', 'C105'], dtype=object)"
      ]
     },
     "execution_count": 65,
     "metadata": {},
     "output_type": "execute_result"
    }
   ],
   "source": [
    "test_dataset.Cabin.unique()"
   ]
  },
  {
   "cell_type": "code",
   "execution_count": 97,
   "id": "cf200604",
   "metadata": {},
   "outputs": [],
   "source": [
    "cabin_T=test_dataset.Cabin\n",
    "cabin_T;\n",
    "nan_arr_T=[]\n",
    "for i in range(cabin_T.shape[0]):\n",
    "    word=str(cabin_T[i])\n",
    "    if(word[0]=='A'):\n",
    "        cabin_T[i]=1\n",
    "    elif(word[0]=='B'):\n",
    "        cabin_T[i]=2\n",
    "    elif(word[0]=='C'):\n",
    "        cabin_T[i]=3\n",
    "    elif(word[0]=='D'):\n",
    "        cabin_T[i]=4\n",
    "    elif(word[0]=='E'):\n",
    "        cabin_T[i]=5\n",
    "    elif(word[0]=='F'):\n",
    "        cabin_T[i]=6\n",
    "    elif(word[0]=='G'):\n",
    "        cabin_T[i]=7\n",
    "    elif(word[0]=='T'):\n",
    "        cabin_T[i]=8"
   ]
  },
  {
   "cell_type": "code",
   "execution_count": 67,
   "id": "b84e653f",
   "metadata": {},
   "outputs": [
    {
     "data": {
      "text/plain": [
       "7"
      ]
     },
     "execution_count": 67,
     "metadata": {},
     "output_type": "execute_result"
    }
   ],
   "source": [
    "array_random= []\n",
    "for i in cabin_T:\n",
    "    if not(isnan(i)):\n",
    "        array_random.append(i)\n",
    "max(array_random)"
   ]
  },
  {
   "cell_type": "code",
   "execution_count": 68,
   "id": "e6c64096",
   "metadata": {},
   "outputs": [
    {
     "data": {
      "text/plain": [
       "array([ 7., 18., 35., 13.,  9.,  8.,  1.])"
      ]
     },
     "execution_count": 68,
     "metadata": {},
     "output_type": "execute_result"
    },
    {
     "data": {
      "image/png": "[encoded data removed]",
      "text/plain": [
       "<Figure size 432x288 with 1 Axes>"
      ]
     },
     "metadata": {
      "needs_background": "light"
     },
     "output_type": "display_data"
    }
   ],
   "source": [
    "entries=[]\n",
    "entries= plt.hist(array_random, bins=7, range=[0.5,7.5])\n",
    "plt.title('Cabin distribution')\n",
    "plt.xlabel(\"Cabin class\")\n",
    "plt.ylabel(\"entries\")\n",
    "Nentries=entries[0]\n",
    "Nentries"
   ]
  },
  {
   "cell_type": "code",
   "execution_count": 69,
   "id": "e1c20d2b",
   "metadata": {},
   "outputs": [
    {
     "data": {
      "text/plain": [
       "array([1.5, 2.5, 3.5, 4.5, 5.5, 6.5, 7.5])"
      ]
     },
     "execution_count": 69,
     "metadata": {},
     "output_type": "execute_result"
    }
   ],
   "source": [
    "bins=entries[1]\n",
    "Nbins=bins[1:]\n",
    "Nbins"
   ]
  },
  {
   "cell_type": "code",
   "execution_count": 70,
   "id": "ec16c2b1",
   "metadata": {},
   "outputs": [],
   "source": [
    "tot=sum(Nentries)\n",
    "prob=[]\n",
    "for i in Nentries:\n",
    "    prob.append(i/tot)\n",
    "prob;"
   ]
  },
  {
   "cell_type": "code",
   "execution_count": 96,
   "id": "67fe7119",
   "metadata": {},
   "outputs": [],
   "source": [
    "countNan=0\n",
    "for i in range(cabin_T.shape[0]):\n",
    "    if(isnan(cabin_T[i])):\n",
    "        cabin_T[i]=int(np.random.choice(Nbins,p=prob))\n",
    "cabin_T\n",
    "test_cabin=cabin_T"
   ]
  },
  {
   "cell_type": "code",
   "execution_count": 72,
   "id": "af7dc033",
   "metadata": {},
   "outputs": [],
   "source": [
    "test_sex=[]\n",
    "for ii in test_dataset.Sex:\n",
    "    if(ii=='female'):\n",
    "        test_sex.append(0)#0 if FEMALE\n",
    "    else:\n",
    "        test_sex.append(1)# 1 if MALE\n",
    "test_embark=[]\n",
    "for ii in test_dataset.Embarked:\n",
    "    if(ii =='C'):\n",
    "        test_embark.append(0) #0  if Cherbourg\n",
    "    elif(ii =='Q'):\n",
    "        test_embark.append(1) # 1 if Queenstown\n",
    "    elif(ii =='S'):\n",
    "        test_embark.append(2) # 2 if Southampton\n",
    "    else:\n",
    "        test_embark.append(np.nan)"
   ]
  },
  {
   "cell_type": "code",
   "execution_count": 73,
   "id": "27a9bc54",
   "metadata": {},
   "outputs": [],
   "source": [
    "test_embark=np.array(test_embark)\n",
    "test_sex=np.array(test_sex)\n",
    "test_Pclass=np.array(test_dataset.Pclass)\n",
    "test_Age=np.array(test_dataset.Age)\n",
    "test_SibSp=np.array(test_dataset.SibSp)\n",
    "test_Parch=np.array(test_dataset.Parch)\n",
    "test_Cabin=np.array(test_dataset.Cabin)\n",
    "test_Fare=np.array(test_dataset.Fare)"
   ]
  },
  {
   "cell_type": "code",
   "execution_count": 74,
   "id": "71189c49",
   "metadata": {},
   "outputs": [
    {
     "data": {
      "text/plain": [
       "418"
      ]
     },
     "execution_count": 74,
     "metadata": {},
     "output_type": "execute_result"
    }
   ],
   "source": [
    "size(test_sex)"
   ]
  },
  {
   "cell_type": "code",
   "execution_count": 75,
   "id": "a8065e6e",
   "metadata": {},
   "outputs": [
    {
     "name": "stdout",
     "output_type": "stream",
     "text": [
      "0\n",
      "0\n",
      "86\n",
      "0\n",
      "0\n",
      "1\n",
      "0\n",
      "0\n"
     ]
    }
   ],
   "source": [
    "lista2=[test_Pclass,test_sex,test_Age,test_SibSp,test_Parch,test_Fare,test_cabin,test_embark]\n",
    "count=0\n",
    "for i in lista2:\n",
    "    for j in i:\n",
    "        if( isnan(j)):\n",
    "            count= count+1\n",
    "    print( count)\n",
    "    count=0"
   ]
  },
  {
   "cell_type": "code",
   "execution_count": 76,
   "id": "4cf50fd1",
   "metadata": {},
   "outputs": [
    {
     "data": {
      "text/plain": [
       "Text(0, 0.5, 'entries')"
      ]
     },
     "execution_count": 76,
     "metadata": {},
     "output_type": "execute_result"
    },
    {
     "data": {
      "image/png": "[encoded data removed]",
      "text/plain": [
       "<Figure size 432x288 with 1 Axes>"
      ]
     },
     "metadata": {
      "needs_background": "light"
     },
     "output_type": "display_data"
    }
   ],
   "source": [
    "array_cost= test_dataset.Fare\n",
    "myhistoCost=plt.hist(array_cost,bins=15)\n",
    "plt.title(\"Ticket Cost distribution\")\n",
    "plt.xlabel(\"cost of the ticket\")\n",
    "plt.ylabel(\"entries\")"
   ]
  },
  {
   "cell_type": "code",
   "execution_count": 77,
   "id": "73c0b205",
   "metadata": {},
   "outputs": [
    {
     "data": {
      "text/plain": [
       "array([ 34.15528,  68.31056, 102.46584, 136.62112, 170.7764 , 204.93168,\n",
       "       239.08696, 273.24224, 307.39752, 341.5528 , 375.70808, 409.86336,\n",
       "       444.01864, 478.17392, 512.3292 ])"
      ]
     },
     "execution_count": 77,
     "metadata": {},
     "output_type": "execute_result"
    }
   ],
   "source": [
    "NentriesCost=myhistoCost[0]\n",
    "NbinsCost=myhistoCost[1]\n",
    "NbinsCostt=NbinsCost[1:]\n",
    "NbinsCostt"
   ]
  },
  {
   "cell_type": "code",
   "execution_count": 78,
   "id": "3595c1e9",
   "metadata": {},
   "outputs": [
    {
     "data": {
      "text/plain": [
       "15"
      ]
     },
     "execution_count": 78,
     "metadata": {},
     "output_type": "execute_result"
    }
   ],
   "source": [
    "probCost=[]\n",
    "totCost=sum(NentriesCost)\n",
    "for i in NentriesCost:\n",
    "    probCost.append(i/totCost)\n",
    "size(probCost)"
   ]
  },
  {
   "cell_type": "code",
   "execution_count": 79,
   "id": "5af232cb",
   "metadata": {},
   "outputs": [],
   "source": [
    "test_Fare2=np.array(test_dataset.Fare)\n",
    "for i in range(test_Fare2.shape[0]):\n",
    "    if(isnan(test_Fare2[i])):\n",
    "        test_Fare2[i]=np.random.choice(NbinsCostt,p=probCost)\n",
    "test_Fare2;"
   ]
  },
  {
   "cell_type": "code",
   "execution_count": 80,
   "id": "c708f5d6",
   "metadata": {},
   "outputs": [
    {
     "data": {
      "text/plain": [
       "Text(0, 0.5, 'entries')"
      ]
     },
     "execution_count": 80,
     "metadata": {},
     "output_type": "execute_result"
    },
    {
     "data": {
      "image/png": "[encoded data removed]",
      "text/plain": [
       "<Figure size 432x288 with 1 Axes>"
      ]
     },
     "metadata": {
      "needs_background": "light"
     },
     "output_type": "display_data"
    }
   ],
   "source": [
    "test_Age\n",
    "test_Agesplit=[]\n",
    "for i in test_Age:\n",
    "    if(isfinite(i)):\n",
    "        test_Agesplit.append(i)\n",
    "test_Agesplit;\n",
    "myhisto=plt.hist(test_Agesplit, bins=25)\n",
    "plt.title(\"Age distribution of the test sample\")\n",
    "plt.xlabel(\"Age in years\")\n",
    "plt.ylabel(\"entries\")"
   ]
  },
  {
   "cell_type": "code",
   "execution_count": 81,
   "id": "2573f59c",
   "metadata": {},
   "outputs": [
    {
     "data": {
      "text/plain": [
       "(array([11.,  4.,  5.,  5.,  7., 22., 32., 45., 36., 33., 20., 17., 13.,\n",
       "        16., 14., 13.,  9.,  5.,  9.,  6.,  5.,  3.,  1.,  0.,  1.]),\n",
       " array([ 0.17  ,  3.2032,  6.2364,  9.2696, 12.3028, 15.336 , 18.3692,\n",
       "        21.4024, 24.4356, 27.4688, 30.502 , 33.5352, 36.5684, 39.6016,\n",
       "        42.6348, 45.668 , 48.7012, 51.7344, 54.7676, 57.8008, 60.834 ,\n",
       "        63.8672, 66.9004, 69.9336, 72.9668, 76.    ]),\n",
       " <BarContainer object of 25 artists>)"
      ]
     },
     "execution_count": 81,
     "metadata": {},
     "output_type": "execute_result"
    }
   ],
   "source": [
    "NentriesAge=myhisto[0]\n",
    "binsAge=myhisto[1]\n",
    "myhisto"
   ]
  },
  {
   "cell_type": "code",
   "execution_count": 82,
   "id": "70fa5da0",
   "metadata": {},
   "outputs": [],
   "source": [
    "probAge=[]\n",
    "totAge=sum(NentriesAge)\n",
    "for i in NentriesAge:\n",
    "    probAge.append(i/totAge)\n",
    "size(probAge);"
   ]
  },
  {
   "cell_type": "code",
   "execution_count": 83,
   "id": "512ac2fb",
   "metadata": {},
   "outputs": [
    {
     "data": {
      "text/plain": [
       "array([ 3.2032,  6.2364,  9.2696, 12.3028, 15.336 , 18.3692, 21.4024,\n",
       "       24.4356, 27.4688, 30.502 , 33.5352, 36.5684, 39.6016, 42.6348,\n",
       "       45.668 , 48.7012, 51.7344, 54.7676, 57.8008, 60.834 , 63.8672,\n",
       "       66.9004, 69.9336, 72.9668, 76.    ])"
      ]
     },
     "execution_count": 83,
     "metadata": {},
     "output_type": "execute_result"
    }
   ],
   "source": [
    "binsAgetest=binsAge[1:]\n",
    "binsAgetest"
   ]
  },
  {
   "cell_type": "code",
   "execution_count": 84,
   "id": "9ac3617b",
   "metadata": {},
   "outputs": [],
   "source": [
    "test_Age2=np.array(test_dataset.Age)\n",
    "for i in range(test_Age2.shape[0]):\n",
    "    if(isnan(test_Age2[i])):\n",
    "        test_Age2[i]=np.random.choice(binsAgetest,p=probAge)\n",
    "test_Age2;"
   ]
  },
  {
   "cell_type": "code",
   "execution_count": 85,
   "id": "629c0f8f",
   "metadata": {},
   "outputs": [
    {
     "name": "stdout",
     "output_type": "stream",
     "text": [
      "0\n",
      "0\n",
      "0\n",
      "0\n",
      "0\n",
      "0\n",
      "0\n",
      "0\n"
     ]
    }
   ],
   "source": [
    "lista2=[test_Pclass,test_sex,test_Age2,test_SibSp,test_Parch,test_Fare2,test_cabin,test_embark]\n",
    "count=0\n",
    "for i in lista2:\n",
    "    for j in i:\n",
    "        if( isnan(j)):\n",
    "            count= count+1\n",
    "    print( count)\n",
    "    count=0"
   ]
  },
  {
   "cell_type": "code",
   "execution_count": 86,
   "id": "c1f0bebc",
   "metadata": {},
   "outputs": [],
   "source": [
    "X_test=np.vstack((test_Pclass,test_sex,test_Age2,test_SibSp,test_Parch,test_Fare2,test_cabin,test_embark))"
   ]
  },
  {
   "cell_type": "code",
   "execution_count": 87,
   "id": "f2bdfb2d",
   "metadata": {},
   "outputs": [
    {
     "data": {
      "text/plain": [
       "array([[3, 1, 34.5, ..., 7.8292, 2, 1],\n",
       "       [3, 0, 47.0, ..., 7.0, 4, 2],\n",
       "       [2, 1, 62.0, ..., 9.6875, 3, 1],\n",
       "       ...,\n",
       "       [3, 1, 38.5, ..., 7.25, 6, 2],\n",
       "       [3, 1, 18.3692, ..., 8.05, 1, 2],\n",
       "       [3, 1, 36.5684, ..., 22.3583, 3, 0]], dtype=object)"
      ]
     },
     "execution_count": 87,
     "metadata": {},
     "output_type": "execute_result"
    }
   ],
   "source": [
    "X_test=X_test.T\n",
    "X_test"
   ]
  },
  {
   "cell_type": "markdown",
   "id": "cc806140",
   "metadata": {},
   "source": [
    "## The Test dataset is ready!"
   ]
  },
  {
   "cell_type": "code",
   "execution_count": 88,
   "id": "a82d685e",
   "metadata": {},
   "outputs": [
    {
     "data": {
      "text/plain": [
       "array([0, 0, 0, 1, 0, 0, 1, 0, 1, 0, 0, 0, 1, 0, 1, 1, 0, 0, 1, 1, 1, 0,\n",
       "       1, 0, 1, 0, 1, 1, 0, 0, 0, 0, 0, 0, 0, 0, 0, 0, 0, 1, 0, 1, 0, 1,\n",
       "       1, 0, 0, 0, 1, 1, 0, 0, 1, 1, 0, 0, 0, 0, 0, 1, 0, 0, 0, 1, 1, 1,\n",
       "       1, 0, 0, 1, 1, 0, 0, 0, 1, 0, 0, 1, 0, 1, 1, 0, 0, 0, 0, 1, 1, 1,\n",
       "       1, 1, 0, 0, 1, 1, 0, 0, 1, 0, 1, 0, 1, 0, 0, 0, 1, 0, 0, 0, 0, 0,\n",
       "       0, 1, 1, 1, 1, 0, 0, 1, 0, 1, 1, 0, 1, 0, 0, 1, 0, 1, 1, 0, 0, 0,\n",
       "       0, 0, 0, 0, 0, 0, 0, 0, 0, 1, 0, 0, 1, 0, 0, 0, 1, 0, 1, 0, 0, 1,\n",
       "       0, 0, 1, 0, 1, 1, 0, 1, 1, 0, 0, 1, 0, 0, 1, 0, 0, 0, 0, 0, 0, 1,\n",
       "       1, 1, 1, 1, 0, 1, 1, 0, 1, 0, 1, 0, 0, 0, 0, 0, 1, 0, 1, 0, 1, 0,\n",
       "       0, 1, 1, 1, 0, 1, 0, 0, 1, 0, 1, 0, 0, 0, 0, 1, 1, 0, 1, 0, 1, 0,\n",
       "       1, 0, 1, 0, 1, 1, 0, 1, 0, 0, 0, 1, 0, 0, 1, 0, 1, 0, 1, 1, 1, 1,\n",
       "       0, 0, 0, 1, 1, 0, 1, 0, 1, 0, 0, 0, 0, 0, 0, 0, 1, 0, 0, 0, 1, 1,\n",
       "       0, 0, 0, 0, 0, 0, 0, 0, 1, 1, 0, 1, 0, 0, 0, 0, 0, 1, 0, 0, 1, 0,\n",
       "       0, 0, 0, 0, 0, 1, 0, 0, 0, 0, 1, 0, 0, 0, 0, 0, 0, 0, 1, 1, 1, 1,\n",
       "       0, 0, 0, 1, 0, 0, 1, 1, 0, 1, 0, 0, 0, 0, 0, 0, 1, 0, 1, 0, 0, 0,\n",
       "       1, 0, 0, 0, 0, 0, 0, 0, 0, 0, 0, 0, 0, 1, 0, 1, 0, 1, 0, 1, 1, 0,\n",
       "       0, 0, 1, 0, 1, 0, 0, 0, 0, 1, 1, 1, 1, 0, 0, 0, 1, 0, 0, 1, 0, 0,\n",
       "       1, 1, 0, 0, 0, 0, 0, 0, 1, 0, 0, 1, 0, 0, 0, 0, 0, 1, 0, 0, 0, 1,\n",
       "       0, 1, 0, 0, 1, 0, 1, 0, 0, 0, 0, 0, 1, 1, 0, 1, 0, 0, 1, 0, 0, 0],\n",
       "      dtype=int64)"
      ]
     },
     "execution_count": 88,
     "metadata": {},
     "output_type": "execute_result"
    }
   ],
   "source": [
    "model2.predict(X_test)"
   ]
  },
  {
   "cell_type": "code",
   "execution_count": 89,
   "id": "38a04a0e",
   "metadata": {},
   "outputs": [],
   "source": [
    "# Step 1 Importing pandas\n",
    "\n",
    "# Step 2 Prepare your data\n",
    "data = {'PassengerId': test_dataset.PassengerId, \n",
    "        'Survived': model2.predict(X_test)}\n",
    "\n",
    "# Step 3 Create a DataFrame using DataFrame function\n",
    "df = pd.DataFrame(data)\n",
    "df\n",
    "y_test=df.Survived"
   ]
  },
  {
   "cell_type": "code",
   "execution_count": 90,
   "id": "bb1955b7",
   "metadata": {},
   "outputs": [
    {
     "name": "stdout",
     "output_type": "stream",
     "text": [
      "CSV file \"myTitanicSolution.csv\" has been created successfully.\n"
     ]
    }
   ],
   "source": [
    "# Step 4 Specify the file path to save data\n",
    "csv_file_path = 'myTitanicSolution.csv'\n",
    "# Step 5 Write the DataFrame to a CSV file using to_csv() function where file path is passed\n",
    "df.to_csv(csv_file_path, index=False)\n",
    "\n",
    "print(f'CSV file \"{csv_file_path}\" has been created successfully.')"
   ]
  },
  {
   "cell_type": "code",
   "execution_count": 91,
   "id": "5761ee76",
   "metadata": {},
   "outputs": [
    {
     "data": {
      "text/html": [
       "<div>\n",
       "<style scoped>\n",
       "    .dataframe tbody tr th:only-of-type {\n",
       "        vertical-align: middle;\n",
       "    }\n",
       "\n",
       "    .dataframe tbody tr th {\n",
       "        vertical-align: top;\n",
       "    }\n",
       "\n",
       "    .dataframe thead th {\n",
       "        text-align: right;\n",
       "    }\n",
       "</style>\n",
       "<table border=\"1\" class=\"dataframe\">\n",
       "  <thead>\n",
       "    <tr style=\"text-align: right;\">\n",
       "      <th></th>\n",
       "      <th>PassengerId</th>\n",
       "      <th>Survived</th>\n",
       "    </tr>\n",
       "  </thead>\n",
       "  <tbody>\n",
       "    <tr>\n",
       "      <th>0</th>\n",
       "      <td>892</td>\n",
       "      <td>0</td>\n",
       "    </tr>\n",
       "    <tr>\n",
       "      <th>1</th>\n",
       "      <td>893</td>\n",
       "      <td>1</td>\n",
       "    </tr>\n",
       "    <tr>\n",
       "      <th>2</th>\n",
       "      <td>894</td>\n",
       "      <td>0</td>\n",
       "    </tr>\n",
       "    <tr>\n",
       "      <th>3</th>\n",
       "      <td>895</td>\n",
       "      <td>0</td>\n",
       "    </tr>\n",
       "    <tr>\n",
       "      <th>4</th>\n",
       "      <td>896</td>\n",
       "      <td>1</td>\n",
       "    </tr>\n",
       "  </tbody>\n",
       "</table>\n",
       "</div>"
      ],
      "text/plain": [
       "   PassengerId  Survived\n",
       "0          892         0\n",
       "1          893         1\n",
       "2          894         0\n",
       "3          895         0\n",
       "4          896         1"
      ]
     },
     "execution_count": 91,
     "metadata": {},
     "output_type": "execute_result"
    }
   ],
   "source": [
    "truth_dataset=pd.read_csv('titanic/truth.csv', encoding='utf8')\n",
    "truth_dataset.head()"
   ]
  },
  {
   "cell_type": "markdown",
   "id": "65f8c3ee",
   "metadata": {},
   "source": [
    "# Check for the results and performance!\n",
    "In order to evaluate the performance of the model I am estimating the accuracy."
   ]
  },
  {
   "cell_type": "code",
   "execution_count": 92,
   "id": "ba076f76",
   "metadata": {},
   "outputs": [],
   "source": [
    "from sklearn.metrics import accuracy_score"
   ]
  },
  {
   "cell_type": "code",
   "execution_count": 93,
   "id": "d06a7ec2",
   "metadata": {},
   "outputs": [],
   "source": [
    "y_truth=truth_dataset.Survived"
   ]
  },
  {
   "cell_type": "code",
   "execution_count": 95,
   "id": "9e5338ae",
   "metadata": {},
   "outputs": [
    {
     "name": "stdout",
     "output_type": "stream",
     "text": [
      "Accuracy score:  0.854066985645933\n"
     ]
    }
   ],
   "source": [
    "print(\"Accuracy score: \", accuracy_score(y_truth, y_test))"
   ]
  },
  {
   "cell_type": "code",
   "execution_count": null,
   "id": "51b76a41",
   "metadata": {},
   "outputs": [],
   "source": []
  }
 ],
 "metadata": {
  "kernelspec": {
   "display_name": "Python 3 (ipykernel)",
   "language": "python",
   "name": "python3"
  },
  "language_info": {
   "codemirror_mode": {
    "name": "ipython",
    "version": 3
   },
   "file_extension": ".py",
   "mimetype": "text/x-python",
   "name": "python",
   "nbconvert_exporter": "python",
   "pygments_lexer": "ipython3",
   "version": "3.9.7"
  }
 },
 "nbformat": 4,
 "nbformat_minor": 5
}
